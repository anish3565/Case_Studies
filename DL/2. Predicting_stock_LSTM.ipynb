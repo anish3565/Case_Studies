{
 "cells": [
  {
   "cell_type": "markdown",
   "metadata": {},
   "source": [
    "### **Long Short Term Memory(LSTM)**,\n",
    "a special type of Recurrent Neural Network(RNN) which can retain important information over time using memory cells.\n",
    "\n",
    "This property of LSTMs makes it a wonderful algorithm to learn sequences that are interdependent and can help to build solutions like,\n",
    "- language translation\n",
    "- sales time series\n",
    "- chatbots\n",
    "- autocorrections\n",
    "- next word suggestions, etc."
   ]
  },
  {
   "cell_type": "markdown",
   "metadata": {},
   "source": [
    "**Objective:** Using LSTM to learn the pattern in the stock prices, and predicting next days price of a stock based on the 10 days prices."
   ]
  },
  {
   "cell_type": "markdown",
   "metadata": {},
   "source": [
    "Library used: `yfinance`\n",
    "\n",
    "Stock market ticker symbol: `INFY` for infosys"
   ]
  },
  {
   "cell_type": "code",
   "execution_count": 12,
   "metadata": {},
   "outputs": [],
   "source": [
    "import pandas as pd\n",
    "import numpy as np\n",
    "\n",
    "# Remove scientific notations from numpy arrays\n",
    "np.set_printoptions(suppress=True)"
   ]
  },
  {
   "cell_type": "code",
   "execution_count": 13,
   "metadata": {},
   "outputs": [
    {
     "name": "stdout",
     "output_type": "stream",
     "text": [
      "Requirement already satisfied: yfinance in c:\\users\\dell\\miniconda3\\lib\\site-packages (0.2.54)\n",
      "Requirement already satisfied: pandas>=1.3.0 in c:\\users\\dell\\miniconda3\\lib\\site-packages (from yfinance) (2.2.3)\n",
      "Requirement already satisfied: numpy>=1.16.5 in c:\\users\\dell\\miniconda3\\lib\\site-packages (from yfinance) (1.26.4)\n",
      "Requirement already satisfied: requests>=2.31 in c:\\users\\dell\\miniconda3\\lib\\site-packages (from yfinance) (2.32.3)\n",
      "Requirement already satisfied: multitasking>=0.0.7 in c:\\users\\dell\\miniconda3\\lib\\site-packages (from yfinance) (0.0.11)\n",
      "Requirement already satisfied: platformdirs>=2.0.0 in c:\\users\\dell\\appdata\\roaming\\python\\python312\\site-packages (from yfinance) (4.3.6)\n",
      "Requirement already satisfied: pytz>=2022.5 in c:\\users\\dell\\miniconda3\\lib\\site-packages (from yfinance) (2024.2)\n",
      "Requirement already satisfied: frozendict>=2.3.4 in c:\\users\\dell\\miniconda3\\lib\\site-packages (from yfinance) (2.4.2)\n",
      "Requirement already satisfied: peewee>=3.16.2 in c:\\users\\dell\\miniconda3\\lib\\site-packages (from yfinance) (3.17.9)\n",
      "Requirement already satisfied: beautifulsoup4>=4.11.1 in c:\\users\\dell\\miniconda3\\lib\\site-packages (from yfinance) (4.12.3)\n",
      "Requirement already satisfied: soupsieve>1.2 in c:\\users\\dell\\miniconda3\\lib\\site-packages (from beautifulsoup4>=4.11.1->yfinance) (2.6)\n",
      "Requirement already satisfied: python-dateutil>=2.8.2 in c:\\users\\dell\\appdata\\roaming\\python\\python312\\site-packages (from pandas>=1.3.0->yfinance) (2.9.0.post0)\n",
      "Requirement already satisfied: tzdata>=2022.7 in c:\\users\\dell\\miniconda3\\lib\\site-packages (from pandas>=1.3.0->yfinance) (2024.2)\n",
      "Requirement already satisfied: charset-normalizer<4,>=2 in c:\\users\\dell\\miniconda3\\lib\\site-packages (from requests>=2.31->yfinance) (3.3.2)\n",
      "Requirement already satisfied: idna<4,>=2.5 in c:\\users\\dell\\miniconda3\\lib\\site-packages (from requests>=2.31->yfinance) (3.7)\n",
      "Requirement already satisfied: urllib3<3,>=1.21.1 in c:\\users\\dell\\miniconda3\\lib\\site-packages (from requests>=2.31->yfinance) (2.2.3)\n",
      "Requirement already satisfied: certifi>=2017.4.17 in c:\\users\\dell\\miniconda3\\lib\\site-packages (from requests>=2.31->yfinance) (2024.8.30)\n",
      "Requirement already satisfied: six>=1.5 in c:\\users\\dell\\appdata\\roaming\\python\\python312\\site-packages (from python-dateutil>=2.8.2->pandas>=1.3.0->yfinance) (1.16.0)\n"
     ]
    },
    {
     "name": "stderr",
     "output_type": "stream",
     "text": [
      "\n",
      "[notice] A new release of pip is available: 24.3.1 -> 25.0.1\n",
      "[notice] To update, run: python.exe -m pip install --upgrade pip\n"
     ]
    }
   ],
   "source": [
    "# installing nsepy library to get stock prices\n",
    "!pip install yfinance"
   ]
  },
  {
   "cell_type": "code",
   "execution_count": 14,
   "metadata": {},
   "outputs": [],
   "source": [
    "import yfinance as yf\n",
    "\n",
    "# Define the date range\n",
    "start_date = \"2023-03-09\"\n",
    "end_date = \"2025-03-13\""
   ]
  },
  {
   "cell_type": "markdown",
   "metadata": {},
   "source": [
    "#### Main components\n",
    "\n",
    "- **Ticker**: single ticker data\n",
    "- **Tickers**: multiple tickers' data\n",
    "- **download**: download market data for multiple tickers\n",
    "- **Market**: get infomation about a market\n",
    "- **Search**: quotes and news from search\n",
    "- **Sector and Industry**: sector and industry information\n",
    "- **EquityQuery and Screener**: build query to screen market"
   ]
  },
  {
   "cell_type": "markdown",
   "metadata": {},
   "source": [
    "A stock symbol or a ticker is a unique series of letters assigned to a security for trading purposes. For example:\n",
    "\n",
    "1. For Amazon, it is “AMZN”\n",
    "2. For Meta, it is “META”\n",
    "3. For Google, it is “GOOGL”"
   ]
  },
  {
   "cell_type": "code",
   "execution_count": 15,
   "metadata": {},
   "outputs": [
    {
     "name": "stderr",
     "output_type": "stream",
     "text": [
      "[*********************100%***********************]  1 of 1 completed"
     ]
    },
    {
     "name": "stdout",
     "output_type": "stream",
     "text": [
      "(495, 6)\n",
      "Price        Date         Close          High           Low          Open  \\\n",
      "Ticker                    ^NSEI         ^NSEI         ^NSEI         ^NSEI   \n",
      "0      2023-03-09  17589.599609  17772.349609  17573.599609  17772.050781   \n",
      "1      2023-03-10  17412.900391  17451.500000  17324.349609  17443.800781   \n",
      "2      2023-03-13  17154.300781  17529.900391  17113.449219  17421.900391   \n",
      "3      2023-03-14  17043.300781  17224.650391  16987.099609  17160.550781   \n",
      "4      2023-03-15  16972.150391  17211.349609  16938.900391  17166.449219   \n",
      "\n",
      "Price   Volume  \n",
      "Ticker   ^NSEI  \n",
      "0       262400  \n",
      "1       235900  \n",
      "2       254900  \n",
      "3       290600  \n",
      "4       248200  \n"
     ]
    },
    {
     "name": "stderr",
     "output_type": "stream",
     "text": [
      "\n"
     ]
    }
   ],
   "source": [
    "# Fetching NIFTY 50 data from Yahoo Finance\n",
    "StockData = yf.download(\"^NSEI\", start=start_date, end=end_date)\n",
    "\n",
    "# Reset the index to move 'Date' from index to a column\n",
    "StockData = StockData.reset_index()\n",
    "\n",
    "# Print the shape of the data and show the first few rows\n",
    "print(StockData.shape)\n",
    "print(StockData.head())"
   ]
  },
  {
   "cell_type": "code",
   "execution_count": 16,
   "metadata": {},
   "outputs": [
    {
     "data": {
      "text/plain": [
       "[('Date', ''),\n",
       " ('Close', '^NSEI'),\n",
       " ('High', '^NSEI'),\n",
       " ('Low', '^NSEI'),\n",
       " ('Open', '^NSEI'),\n",
       " ('Volume', '^NSEI')]"
      ]
     },
     "execution_count": 16,
     "metadata": {},
     "output_type": "execute_result"
    }
   ],
   "source": [
    "list(StockData.columns)"
   ]
  },
  {
   "cell_type": "markdown",
   "metadata": {},
   "source": [
    "### Visualizing the stock prices movement"
   ]
  },
  {
   "cell_type": "code",
   "execution_count": 17,
   "metadata": {},
   "outputs": [
    {
     "data": {
      "text/plain": [
       "<Axes: xlabel='Date'>"
      ]
     },
     "execution_count": 17,
     "metadata": {},
     "output_type": "execute_result"
    },
    {
     "data": {
      "image/png": "[encoded data removed]",
      "text/plain": [
       "<Figure size 2000x600 with 1 Axes>"
      ]
     },
     "metadata": {},
     "output_type": "display_data"
    }
   ],
   "source": [
    " # Plotting the stock prices\n",
    "%matplotlib inline\n",
    "StockData.plot(x='Date', y='Close', kind='line', figsize=(20,6), rot=20)"
   ]
  },
  {
   "cell_type": "markdown",
   "metadata": {},
   "source": [
    "### Preparing the data\n",
    "\n",
    "Giving data input into LSTM model in the form of X vs y, where,\n",
    "- X : Represents the last 10 day's price\n",
    "- y : Represents 11th day price\n",
    "\n",
    "By looking at examples from last 2 years, LSTM would be able to learn the movement of price, thus after passing the last 10 days of price, it will be able to predict 11th days price.\n",
    "\n",
    "Standardizing or normalizing the data is mandatory for a fast and more accurate fit as LSTM is a Neural network-based algorithm"
   ]
  },
  {
   "cell_type": "code",
   "execution_count": 18,
   "metadata": {},
   "outputs": [
    {
     "name": "stdout",
     "output_type": "stream",
     "text": [
      "[[17589.59960938]\n",
      " [17412.90039062]\n",
      " [17154.30078125]\n",
      " [17043.30078125]\n",
      " [16972.15039062]]\n"
     ]
    }
   ],
   "source": [
    "# Extracting the closing prices of each day\n",
    "FullData=StockData[['Close']].values\n",
    "print(FullData[0:5])"
   ]
  },
  {
   "cell_type": "code",
   "execution_count": 19,
   "metadata": {},
   "outputs": [
    {
     "name": "stdout",
     "output_type": "stream",
     "text": [
      "### After Normalization ###\n"
     ]
    },
    {
     "data": {
      "text/plain": [
       "array([[0.06952312],\n",
       "       [0.05046377],\n",
       "       [0.02257038],\n",
       "       [0.01059756],\n",
       "       [0.00292305]])"
      ]
     },
     "execution_count": 19,
     "metadata": {},
     "output_type": "execute_result"
    }
   ],
   "source": [
    "# Feature Scaling for fast training of the neural networks\n",
    "from sklearn.preprocessing import StandardScaler, MinMaxScaler\n",
    "\n",
    "# Choosing between Standardization or Normalization\n",
    "# sc = StandardScaler()\n",
    "sc=MinMaxScaler()\n",
    "\n",
    "DataScaler=sc.fit(FullData)\n",
    "X=DataScaler.transform(FullData)\n",
    "\n",
    "print('### After Normalization ###')\n",
    "X[0:5]"
   ]
  },
  {
   "cell_type": "markdown",
   "metadata": {},
   "source": [
    "### Preparing the data for LSTM"
   ]
  },
  {
   "cell_type": "code",
   "execution_count": 20,
   "metadata": {},
   "outputs": [],
   "source": [
    "# Split into samples\n",
    "X_samples=list()\n",
    "y_samples=list()\n",
    "\n",
    "NumberOfRows=len(X)\n",
    "# next day's Price Prediction is based on last 10 day's prices\n",
    "TimeSteps=10\n",
    "\n",
    "# Iterate through the values to create combinations\n",
    "for i in range(TimeSteps, NumberOfRows, 1):\n",
    "    x_sample = X[i-TimeSteps:i]\n",
    "    y_sample = X[i]\n",
    "\n",
    "    X_samples.append(x_sample)\n",
    "    y_samples.append(y_sample)"
   ]
  },
  {
   "cell_type": "code",
   "execution_count": 21,
   "metadata": {},
   "outputs": [
    {
     "name": "stdout",
     "output_type": "stream",
     "text": [
      "TimeSteps: 10 \n",
      "NumberOfRows: 495\n"
     ]
    }
   ],
   "source": [
    "print(f\"TimeSteps: {TimeSteps} \\nNumberOfRows: {NumberOfRows}\")"
   ]
  },
  {
   "cell_type": "code",
   "execution_count": 22,
   "metadata": {},
   "outputs": [
    {
     "name": "stdout",
     "output_type": "stream",
     "text": [
      "\n",
      "#### Input Data shape ####\n",
      "(485, 10, 1)\n",
      "\n",
      " ### Output data shape ###\n",
      "(485, 1)\n"
     ]
    }
   ],
   "source": [
    "# Reshape the Input as a 3D (number of sample, Time Steps, Features)\n",
    "X_data=np.array(X_samples)\n",
    "X_data=X_data.reshape(X_data.shape[0], X_data.shape[1], 1)\n",
    "print('\\n#### Input Data shape ####')\n",
    "print(X_data.shape)\n",
    "\n",
    "# Reshape the input as a 3D data as it is supposed to be a single column only\n",
    "y_data=np.array(y_samples)\n",
    "y_data=y_data.reshape(y_data.shape[0], 1)\n",
    "print('\\n ### Output data shape ###')\n",
    "print(y_data.shape)"
   ]
  },
  {
   "cell_type": "markdown",
   "metadata": {},
   "source": [
    "### Splitting the data into training and testing"
   ]
  },
  {
   "cell_type": "code",
   "execution_count": 23,
   "metadata": {},
   "outputs": [],
   "source": [
    "# Keeping few days data for testing records\n",
    "TestingRecords=5\n",
    "\n",
    "# Splitting the data into train and test\n",
    "X_train=X_data[:-TestingRecords]\n",
    "X_test=X_data[-TestingRecords:]\n",
    "y_train=y_data[:-TestingRecords]\n",
    "y_test=y_data[-TestingRecords:]"
   ]
  },
  {
   "cell_type": "code",
   "execution_count": 24,
   "metadata": {},
   "outputs": [
    {
     "name": "stdout",
     "output_type": "stream",
     "text": [
      "\n",
      " #### Training Data Shape ####\n",
      "(480, 10, 1)\n",
      "(480, 1)\n",
      "\n",
      " #### Testing Data Shape ####\n",
      "(5, 10, 1)\n",
      "(5, 1)\n"
     ]
    }
   ],
   "source": [
    "# Printing the shape of training and testing\n",
    "print('\\n #### Training Data Shape ####')\n",
    "print(X_train.shape)\n",
    "print(y_train.shape)\n",
    "print('\\n #### Testing Data Shape ####')\n",
    "print(X_test.shape)\n",
    "print(y_test.shape)\n"
   ]
  },
  {
   "cell_type": "markdown",
   "metadata": {},
   "source": [
    "### Visualizing the input and outpit data for LSTM\n",
    "\n",
    "When input is 3D for the last 10 prices and output is 1D array of the next price."
   ]
  },
  {
   "cell_type": "code",
   "execution_count": 25,
   "metadata": {},
   "outputs": [
    {
     "name": "stdout",
     "output_type": "stream",
     "text": [
      "[[0.06952312]\n",
      " [0.05046377]\n",
      " [0.02257038]\n",
      " [0.01059756]\n",
      " [0.00292305]\n",
      " [0.00437373]\n",
      " [0.0167188 ]\n",
      " [0.00467583]\n",
      " [0.0175223 ]\n",
      " [0.02231147]] --> [0.01422172]\n",
      "[[0.05046377]\n",
      " [0.02257038]\n",
      " [0.01059756]\n",
      " [0.00292305]\n",
      " [0.00437373]\n",
      " [0.0167188 ]\n",
      " [0.00467583]\n",
      " [0.0175223 ]\n",
      " [0.02231147]\n",
      " [0.01422172]] --> [0.]\n"
     ]
    }
   ],
   "source": [
    "for inp, out in zip(X_train[0:2], y_train[0:2]):\n",
    "    print(inp, '-->', out)"
   ]
  },
  {
   "cell_type": "markdown",
   "metadata": {},
   "source": [
    "### Creating the DL LSTM model\n",
    "\n",
    "- Using LSTM instead of Dense to define the hidden layers,\n",
    "- The output has one neuron and we are predicting the next day price, for predicting for multiple days,\n",
    "    - change input data and neurons equal to the number of days of forcast "
   ]
  },
  {
   "cell_type": "code",
   "execution_count": 46,
   "metadata": {},
   "outputs": [
    {
     "name": "stdout",
     "output_type": "stream",
     "text": [
      "Number of TimeSteps:  10\n",
      "NUmber of Features 1\n"
     ]
    }
   ],
   "source": [
    "## Defining input shape for LSTM\n",
    "TimeSteps=X_train.shape[1]\n",
    "TotalFeatures=X_train.shape[2]\n",
    "print(\"Number of TimeSteps: \", TimeSteps)\n",
    "print(\"NUmber of Features\", TotalFeatures)"
   ]
  },
  {
   "cell_type": "code",
   "execution_count": 51,
   "metadata": {},
   "outputs": [
    {
     "name": "stdout",
     "output_type": "stream",
     "text": [
      "Shape of X_train: (480, 10, 1)\n"
     ]
    }
   ],
   "source": [
    "print(f\"Shape of X_train: {X_train.shape}\")"
   ]
  },
  {
   "cell_type": "markdown",
   "metadata": {},
   "source": [
    "Using 3 inputs and 1 output layer, we can increase or decrease number of neurons in each hiddent layers.\n",
    "\n",
    "Also can increase and decrease the number of the output layer sneurons  in the hiddsn layer."
   ]
  },
  {
   "cell_type": "markdown",
   "metadata": {},
   "source": [
    "Hyperparamers of LSTM model,\n",
    "\n",
    "- **units=10**:\n",
    "- **input_shape=(TimeSteps, TotalFeatures)**\n",
    "- **kernel_initializer = uniform**\n",
    "-  **kernel_initialziser = 'uniform'**\n",
    "-  **activation='relu'**\n",
    "- **neuron_sequence s= True**\n",
    "- **optimizer='adam'**\n",
    "- **batch_size=10**\n",
    "- **epochs=10**\n",
    "\n",
    "\n"
   ]
  },
  {
   "cell_type": "code",
   "execution_count": 27,
   "metadata": {},
   "outputs": [],
   "source": [
    "from tensorflow.keras.models import Sequential\n",
    "from tensorflow.keras.layers import Dense\n",
    "from tensorflow.keras.layers import LSTM"
   ]
  },
  {
   "cell_type": "code",
   "execution_count": 28,
   "metadata": {},
   "outputs": [],
   "source": [
    "# Initializing the RNN\n",
    "regressor=Sequential()"
   ]
  },
  {
   "cell_type": "markdown",
   "metadata": {},
   "source": [
    "Adding the First input hidden layer and the LSTM layer and return_seqence = True,\n",
    "\n",
    "- i.e. output of every time step to be shared with hidden next layer"
   ]
  },
  {
   "cell_type": "code",
   "execution_count": 29,
   "metadata": {},
   "outputs": [
    {
     "name": "stderr",
     "output_type": "stream",
     "text": [
      "c:\\Users\\Dell\\miniconda3\\Lib\\site-packages\\keras\\src\\layers\\rnn\\rnn.py:200: UserWarning: Do not pass an `input_shape`/`input_dim` argument to a layer. When using Sequential models, prefer using an `Input(shape)` object as the first layer in the model instead.\n",
      "  super().__init__(**kwargs)\n"
     ]
    }
   ],
   "source": [
    "regressor.add(LSTM(units=10, activation='relu', input_shape=(TimeSteps, TotalFeatures), return_sequences=True))"
   ]
  },
  {
   "cell_type": "markdown",
   "metadata": {},
   "source": [
    "Adding the Seconds Second hidden layer and the LSTM layer"
   ]
  },
  {
   "cell_type": "code",
   "execution_count": 30,
   "metadata": {},
   "outputs": [],
   "source": [
    "regressor.add(LSTM(units=5, activation='relu', input_shape=(TimeSteps, TotalFeatures), return_sequences=True))"
   ]
  },
  {
   "cell_type": "markdown",
   "metadata": {},
   "source": [
    "Adding the Seconds Third hidden layer and the LSTM layer"
   ]
  },
  {
   "cell_type": "code",
   "execution_count": 31,
   "metadata": {},
   "outputs": [],
   "source": [
    "regressor.add(LSTM(units=5, activation='relu', return_sequences=True))"
   ]
  },
  {
   "cell_type": "markdown",
   "metadata": {},
   "source": [
    "Adding the output layer"
   ]
  },
  {
   "cell_type": "code",
   "execution_count": 32,
   "metadata": {},
   "outputs": [],
   "source": [
    "regressor.add(Dense(units=1))"
   ]
  },
  {
   "cell_type": "markdown",
   "metadata": {},
   "source": [
    "Compiling the RNN"
   ]
  },
  {
   "cell_type": "code",
   "execution_count": 33,
   "metadata": {},
   "outputs": [],
   "source": [
    "regressor.compile(optimizer='adam', loss='mean_squared_error')"
   ]
  },
  {
   "cell_type": "markdown",
   "metadata": {},
   "source": [
    "Calculating the time for model to train"
   ]
  },
  {
   "cell_type": "code",
   "execution_count": 34,
   "metadata": {},
   "outputs": [
    {
     "name": "stdout",
     "output_type": "stream",
     "text": [
      "Epoch 1/10\n",
      "\u001b[1m96/96\u001b[0m \u001b[32m━━━━━━━━━━━━━━━━━━━━\u001b[0m\u001b[37m\u001b[0m \u001b[1m3s\u001b[0m 7ms/step - loss: 0.3057\n",
      "Epoch 2/10\n",
      "\u001b[1m96/96\u001b[0m \u001b[32m━━━━━━━━━━━━━━━━━━━━\u001b[0m\u001b[37m\u001b[0m \u001b[1m1s\u001b[0m 6ms/step - loss: 0.1181\n",
      "Epoch 3/10\n",
      "\u001b[1m96/96\u001b[0m \u001b[32m━━━━━━━━━━━━━━━━━━━━\u001b[0m\u001b[37m\u001b[0m \u001b[1m1s\u001b[0m 6ms/step - loss: 0.0583\n",
      "Epoch 4/10\n",
      "\u001b[1m96/96\u001b[0m \u001b[32m━━━━━━━━━━━━━━━━━━━━\u001b[0m\u001b[37m\u001b[0m \u001b[1m1s\u001b[0m 6ms/step - loss: 0.0471\n",
      "Epoch 5/10\n",
      "\u001b[1m96/96\u001b[0m \u001b[32m━━━━━━━━━━━━━━━━━━━━\u001b[0m\u001b[37m\u001b[0m \u001b[1m1s\u001b[0m 5ms/step - loss: 0.0364\n",
      "Epoch 6/10\n",
      "\u001b[1m96/96\u001b[0m \u001b[32m━━━━━━━━━━━━━━━━━━━━\u001b[0m\u001b[37m\u001b[0m \u001b[1m1s\u001b[0m 6ms/step - loss: 0.0303\n",
      "Epoch 7/10\n",
      "\u001b[1m96/96\u001b[0m \u001b[32m━━━━━━━━━━━━━━━━━━━━\u001b[0m\u001b[37m\u001b[0m \u001b[1m1s\u001b[0m 6ms/step - loss: 0.0261\n",
      "Epoch 8/10\n",
      "\u001b[1m96/96\u001b[0m \u001b[32m━━━━━━━━━━━━━━━━━━━━\u001b[0m\u001b[37m\u001b[0m \u001b[1m1s\u001b[0m 6ms/step - loss: 0.0201\n",
      "Epoch 9/10\n",
      "\u001b[1m96/96\u001b[0m \u001b[32m━━━━━━━━━━━━━━━━━━━━\u001b[0m\u001b[37m\u001b[0m \u001b[1m1s\u001b[0m 8ms/step - loss: 0.0188\n",
      "Epoch 10/10\n",
      "\u001b[1m96/96\u001b[0m \u001b[32m━━━━━━━━━━━━━━━━━━━━\u001b[0m\u001b[37m\u001b[0m \u001b[1m1s\u001b[0m 9ms/step - loss: 0.0163\n",
      "## Total Time Taken:  0 Minutes ##\n"
     ]
    }
   ],
   "source": [
    "import time\n",
    "# Measuing the tume taken by the model to train\n",
    "StartTime=time.time()\n",
    "\n",
    "# Fitting the RNN to the Training set\n",
    "regressor.fit(X_train, y_train, batch_size=5, epochs=10)\n",
    "\n",
    "EndTime=time.time()\n",
    "print(\"## Total Time Taken: \", round((EndTime-StartTime)/60), 'Minutes ##')"
   ]
  },
  {
   "cell_type": "markdown",
   "metadata": {},
   "source": [
    "#### Measuring the accuracy of the model on testing data\n",
    "\n",
    "Using the trained model data,"
   ]
  },
  {
   "cell_type": "markdown",
   "metadata": {},
   "source": [
    "- Making predictions on the test data"
   ]
  },
  {
   "cell_type": "code",
   "execution_count": 56,
   "metadata": {},
   "outputs": [
    {
     "name": "stdout",
     "output_type": "stream",
     "text": [
      "Shape of X_train: (480, 10, 1)\n",
      "Shape of y_test: (5, 1)\n"
     ]
    }
   ],
   "source": [
    "print(f\"Shape of X_train: {X_train.shape}\")\n",
    "print(f\"Shape of y_test: {y_test.shape}\")\n"
   ]
  },
  {
   "cell_type": "markdown",
   "metadata": {},
   "source": []
  },
  {
   "cell_type": "code",
   "execution_count": 74,
   "metadata": {},
   "outputs": [
    {
     "name": "stdout",
     "output_type": "stream",
     "text": [
      "\u001b[1m1/1\u001b[0m \u001b[32m━━━━━━━━━━━━━━━━━━━━\u001b[0m\u001b[37m\u001b[0m \u001b[1m0s\u001b[0m 42ms/step\n"
     ]
    }
   ],
   "source": [
    "predicted_Price=regressor.predict(X_test)\n",
    "\n",
    "predicted_Price = predicted_Price.reshape(predicted_Price.shape[0], -1)\n",
    "\n",
    "predicted_Price=DataScaler.inverse_transform(predicted_Price)"
   ]
  },
  {
   "cell_type": "code",
   "execution_count": 75,
   "metadata": {},
   "outputs": [
    {
     "data": {
      "text/plain": [
       "50"
      ]
     },
     "execution_count": 75,
     "metadata": {},
     "output_type": "execute_result"
    }
   ],
   "source": [
    "df1=np.array(predicted_Price)\n",
    "df1.size"
   ]
  },
  {
   "cell_type": "code",
   "execution_count": null,
   "metadata": {},
   "outputs": [],
   "source": [
    "# Getting the original price values for testing data\n",
    "orig=y_test.reshape(y_test.shape[0],-1)"
   ]
  },
  {
   "cell_type": "code",
   "execution_count": null,
   "metadata": {},
   "outputs": [],
   "source": []
  },
  {
   "cell_type": "code",
   "execution_count": null,
   "metadata": {},
   "outputs": [],
   "source": []
  },
  {
   "cell_type": "code",
   "execution_count": null,
   "metadata": {},
   "outputs": [],
   "source": []
  },
  {
   "cell_type": "code",
   "execution_count": null,
   "metadata": {},
   "outputs": [],
   "source": []
  },
  {
   "cell_type": "code",
   "execution_count": null,
   "metadata": {},
   "outputs": [],
   "source": []
  },
  {
   "cell_type": "code",
   "execution_count": null,
   "metadata": {},
   "outputs": [],
   "source": []
  },
  {
   "cell_type": "code",
   "execution_count": null,
   "metadata": {},
   "outputs": [],
   "source": []
  },
  {
   "cell_type": "code",
   "execution_count": null,
   "metadata": {},
   "outputs": [],
   "source": []
  },
  {
   "cell_type": "code",
   "execution_count": null,
   "metadata": {},
   "outputs": [],
   "source": []
  }
 ],
 "metadata": {
  "kernelspec": {
   "display_name": "base",
   "language": "python",
   "name": "python3"
  },
  "language_info": {
   "codemirror_mode": {
    "name": "ipython",
    "version": 3
   },
   "file_extension": ".py",
   "mimetype": "text/x-python",
   "name": "python",
   "nbconvert_exporter": "python",
   "pygments_lexer": "ipython3",
   "version": "3.12.7"
  }
 },
 "nbformat": 4,
 "nbformat_minor": 2
}
