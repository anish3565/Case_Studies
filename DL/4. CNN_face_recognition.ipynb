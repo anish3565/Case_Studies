{
 "cells": [
  {
   "cell_type": "markdown",
   "id": "765c33ca",
   "metadata": {},
   "source": [
    "## **Face Recognition using Deep Learning CNN**"
   ]
  },
  {
   "cell_type": "markdown",
   "id": "664222f0",
   "metadata": {},
   "source": [
    "<html><img src=\"https://thinkingneuron.com/wp-content/uploads/2020/10/CNN-case-study.png\" alt=\"Convolution step in CNN\"></html>"
   ]
  }
 ],
 "metadata": {
  "kernelspec": {
   "display_name": "base",
   "language": "python",
   "name": "python3"
  },
  "language_info": {
   "codemirror_mode": {
    "name": "ipython",
    "version": 3
   },
   "file_extension": ".py",
   "mimetype": "text/x-python",
   "name": "python",
   "nbconvert_exporter": "python",
   "pygments_lexer": "ipython3",
   "version": "3.12.7"
  }
 },
 "nbformat": 4,
 "nbformat_minor": 5
}
