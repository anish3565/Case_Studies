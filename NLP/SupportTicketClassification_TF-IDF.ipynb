{
 "cells": [
  {
   "cell_type": "markdown",
   "metadata": {},
   "source": [
    "### **Support Ticket Classification using TF-IDF Vectorization**\n",
    "\n",
    "**Scenario:**\n",
    "\n",
    "In every organization, IT and customer support teams deal with an overwhelming number of support tickets daily. A significant challenge faced by these teams is misclassification of ticket priorities—employees often raise tickets as Priority-1 (P1) or Priority-2 (P2), even when they do not require urgent attention. This leads to inefficiencies, delays, and misallocation of resources.\n",
    "\n",
    "Thus proposing a machine learning-based predictive model that can automatically classify incoming support tickets into appropriate priority levels (P1, P2, P3, etc.) based on their content. This automation can help IT teams focus on truly critical issues first, improving response times and operational efficiency."
   ]
  },
  {
   "cell_type": "markdown",
   "metadata": {},
   "source": [
    "**Objective**:\n",
    "\n",
    "The goal of this case study is to develop a text classification model that can analyze the content of a ticket description and accurately predict its priority level. This involves:\n",
    "\n",
    "- Preprocessing and vectorizing text data to make it suitable for machine learning.\n",
    "\n",
    "- Training classification models such as Logistic Regression, Decision Trees, and Naïve Bayes.\n",
    "\n",
    "- Evaluating model performance using metrics like accuracy, precision, recall, and F1-score.\n",
    "\n",
    "- Deploying the model via an API or web interface for real-time ticket classification."
   ]
  },
  {
   "cell_type": "code",
   "execution_count": 1,
   "metadata": {},
   "outputs": [
    {
     "name": "stdout",
     "output_type": "stream",
     "text": [
      "                                                Text Priority\n",
      "0  Hi Please reset my password, i am not able to ...       P3\n",
      "1                        Hi Please reset my password       P3\n",
      "2            Hi The system is down please restart it       P1\n",
      "3                   Not able to login can you check?       P3\n",
      "4                   The data is not getting exported       P2\n"
     ]
    }
   ],
   "source": [
    "### Creating a sample ticket data\n",
    "import pandas as pd\n",
    "import warnings\n",
    "warnings.filterwarnings('ignore')\n",
    "\n",
    "TicketData=pd.DataFrame(data=[['Hi Please reset my password, i am not able to reset it','P3'],\n",
    "                              ['Hi Please reset my password','P3'],\n",
    "                              ['Hi The system is down please restart it', 'P1'],\n",
    "                              ['Not able to login can you check?', 'P3'],\n",
    "                              ['The data is not getting exported', 'P2'],\n",
    "                               ], columns=['Text','Priority'])\n",
    "# Printing the data\n",
    "print(TicketData)"
   ]
  },
  {
   "cell_type": "markdown",
   "metadata": {},
   "source": [
    "#### **Observations & Challenges**\n",
    "\n",
    "\n",
    "1. **Text Data Requires Transformation**\n",
    "\n",
    "Traditional classification models work with numerical data, but ticket descriptions are in free-text format. This necessitates a transformation process called Vectorization, which converts text into numerical form.\n",
    "\n",
    "2. **Commonly Used Vectorization Techniques**\n",
    "\n",
    "There are several methods to represent text numerically, including:\n",
    "\n",
    "- TF-IDF (Term Frequency-Inverse Document Frequency)\n",
    "\n",
    "- Word2Vec & Doc2Vec\n",
    "\n",
    "- GloVe (Global Vectors for Word Representation)\n",
    "\n",
    "- BERT (Bidirectional Encoder Representations from Transformers)\n",
    "\n",
    "For this case study, we use TF-IDF vectorization, which measures how important a word is in a document relative to a collection of documents.\n",
    "\n",
    "#### **Understanding TF-IDF**\n",
    "\n",
    "TF-IDF is a statistical measure that evaluates how relevant a word is in a given document. It is computed as:\n",
    "\n",
    "- Term Frequency (TF):  **(Number of times a word appears in a document/ Total words in the document)**\n",
    "\n",
    "\n",
    "- Inverse Document Frequency (IDF):  **log(Total number of documents/Number of documents containing the word)**\n",
    "\n",
    "\n",
    "#### **Key observations from TF-IDF:**\n",
    "\n",
    "- Frequently occurring words like \"the\", \"and\", \"is\" have a lower weight.\n",
    "\n",
    "- Rare words have higher TF-IDF scores, making them more relevant in distinguishing documents.\n",
    "\n",
    "#### **Applying TF-IDF to Ticket Classification**\n",
    "Using sklearn.feature_extraction.text.TfidfVectorizer, we transform our ticket descriptions into a Document-Term Matrix (DTM) where each row represents a ticket and each column represents a unique word with its corresponding TF-IDF score.\n",
    "\n",
    "This matrix serves as the input for classification models, where the ticket priority (P1, P2, P3) becomes the target variable."
   ]
  },
  {
   "cell_type": "code",
   "execution_count": 7,
   "metadata": {},
   "outputs": [
    {
     "name": "stdout",
     "output_type": "stream",
     "text": [
      "['able' 'check' 'data' 'exported' 'getting' 'hi' 'login' 'password'\n",
      " 'reset' 'restart']\n"
     ]
    }
   ],
   "source": [
    "# Tf-IDF vectorization of text\n",
    "from sklearn.feature_extraction.text import TfidfVectorizer\n",
    "\n",
    "# Extracting only the ticket text column\n",
    "corpus=TicketData['Text'].values\n",
    "\n",
    "# Generating the Vectorizer object\n",
    "vectorizer=TfidfVectorizer(stop_words='english')\n",
    "\n",
    "# Converting the input text to TF-IDF matrix\n",
    "X=vectorizer.fit_transform(corpus)\n",
    "\n",
    "# Selecting final works in the TF-IDF matrix\n",
    "print(vectorizer.get_feature_names_out())"
   ]
  },
  {
   "cell_type": "code",
   "execution_count": 12,
   "metadata": {},
   "outputs": [
    {
     "data": {
      "text/html": [
       "<div>\n",
       "<style scoped>\n",
       "    .dataframe tbody tr th:only-of-type {\n",
       "        vertical-align: middle;\n",
       "    }\n",
       "\n",
       "    .dataframe tbody tr th {\n",
       "        vertical-align: top;\n",
       "    }\n",
       "\n",
       "    .dataframe thead th {\n",
       "        text-align: right;\n",
       "    }\n",
       "</style>\n",
       "<table border=\"1\" class=\"dataframe\">\n",
       "  <thead>\n",
       "    <tr style=\"text-align: right;\">\n",
       "      <th></th>\n",
       "      <th>able</th>\n",
       "      <th>check</th>\n",
       "      <th>data</th>\n",
       "      <th>exported</th>\n",
       "      <th>getting</th>\n",
       "      <th>hi</th>\n",
       "      <th>login</th>\n",
       "      <th>password</th>\n",
       "      <th>reset</th>\n",
       "      <th>restart</th>\n",
       "      <th>originalText</th>\n",
       "    </tr>\n",
       "  </thead>\n",
       "  <tbody>\n",
       "    <tr>\n",
       "      <th>0</th>\n",
       "      <td>0.386650</td>\n",
       "      <td>0.000000</td>\n",
       "      <td>0.00000</td>\n",
       "      <td>0.00000</td>\n",
       "      <td>0.00000</td>\n",
       "      <td>0.320954</td>\n",
       "      <td>0.000000</td>\n",
       "      <td>0.386650</td>\n",
       "      <td>0.773300</td>\n",
       "      <td>0.000000</td>\n",
       "      <td>Hi Please reset my password, i am not able to ...</td>\n",
       "    </tr>\n",
       "    <tr>\n",
       "      <th>1</th>\n",
       "      <td>0.000000</td>\n",
       "      <td>0.000000</td>\n",
       "      <td>0.00000</td>\n",
       "      <td>0.00000</td>\n",
       "      <td>0.00000</td>\n",
       "      <td>0.506204</td>\n",
       "      <td>0.000000</td>\n",
       "      <td>0.609818</td>\n",
       "      <td>0.609818</td>\n",
       "      <td>0.000000</td>\n",
       "      <td>Hi Please reset my password</td>\n",
       "    </tr>\n",
       "    <tr>\n",
       "      <th>2</th>\n",
       "      <td>0.000000</td>\n",
       "      <td>0.000000</td>\n",
       "      <td>0.00000</td>\n",
       "      <td>0.00000</td>\n",
       "      <td>0.00000</td>\n",
       "      <td>0.556451</td>\n",
       "      <td>0.000000</td>\n",
       "      <td>0.000000</td>\n",
       "      <td>0.000000</td>\n",
       "      <td>0.830881</td>\n",
       "      <td>Hi The system is down please restart it</td>\n",
       "    </tr>\n",
       "    <tr>\n",
       "      <th>3</th>\n",
       "      <td>0.495524</td>\n",
       "      <td>0.614189</td>\n",
       "      <td>0.00000</td>\n",
       "      <td>0.00000</td>\n",
       "      <td>0.00000</td>\n",
       "      <td>0.000000</td>\n",
       "      <td>0.614189</td>\n",
       "      <td>0.000000</td>\n",
       "      <td>0.000000</td>\n",
       "      <td>0.000000</td>\n",
       "      <td>Not able to login can you check?</td>\n",
       "    </tr>\n",
       "    <tr>\n",
       "      <th>4</th>\n",
       "      <td>0.000000</td>\n",
       "      <td>0.000000</td>\n",
       "      <td>0.57735</td>\n",
       "      <td>0.57735</td>\n",
       "      <td>0.57735</td>\n",
       "      <td>0.000000</td>\n",
       "      <td>0.000000</td>\n",
       "      <td>0.000000</td>\n",
       "      <td>0.000000</td>\n",
       "      <td>0.000000</td>\n",
       "      <td>The data is not getting exported</td>\n",
       "    </tr>\n",
       "  </tbody>\n",
       "</table>\n",
       "</div>"
      ],
      "text/plain": [
       "       able     check     data  exported  getting        hi     login  \\\n",
       "0  0.386650  0.000000  0.00000   0.00000  0.00000  0.320954  0.000000   \n",
       "1  0.000000  0.000000  0.00000   0.00000  0.00000  0.506204  0.000000   \n",
       "2  0.000000  0.000000  0.00000   0.00000  0.00000  0.556451  0.000000   \n",
       "3  0.495524  0.614189  0.00000   0.00000  0.00000  0.000000  0.614189   \n",
       "4  0.000000  0.000000  0.57735   0.57735  0.57735  0.000000  0.000000   \n",
       "\n",
       "   password     reset   restart  \\\n",
       "0  0.386650  0.773300  0.000000   \n",
       "1  0.609818  0.609818  0.000000   \n",
       "2  0.000000  0.000000  0.830881   \n",
       "3  0.000000  0.000000  0.000000   \n",
       "4  0.000000  0.000000  0.000000   \n",
       "\n",
       "                                        originalText  \n",
       "0  Hi Please reset my password, i am not able to ...  \n",
       "1                        Hi Please reset my password  \n",
       "2            Hi The system is down please restart it  \n",
       "3                   Not able to login can you check?  \n",
       "4                   The data is not getting exported  "
      ]
     },
     "execution_count": 12,
     "metadata": {},
     "output_type": "execute_result"
    }
   ],
   "source": [
    "# Visualizing the Document Term Matrix using TF-IDF\n",
    "import pandas as pd\n",
    "VectorizedText=pd.DataFrame(X.toarray(), columns=vectorizer.get_feature_names_out())\n",
    "VectorizedText['originalText']=pd.Series(corpus)\n",
    "VectorizedText"
   ]
  },
  {
   "cell_type": "markdown",
   "metadata": {},
   "source": [
    "If a word,\n",
    "- Not present in a sentences, its score is 0\n",
    "- Present only in a few of the sentences, then its score is higher\n",
    "- Present in almost every sentence, its score is 0.\n",
    "\n",
    "\n",
    "Usecases of Vectorized text,\n",
    "- This data can be futher used in ML\n",
    "- If the text data also has a target variable e.g. Sentiment(positive/negative) or Support Ticker Priority (P1, P2, P3) then the word columns acts as predictors and can fit classification/regression ML algorithms on this data."
   ]
  },
  {
   "cell_type": "code",
   "execution_count": 15,
   "metadata": {},
   "outputs": [
    {
     "data": {
      "text/html": [
       "<div>\n",
       "<style scoped>\n",
       "    .dataframe tbody tr th:only-of-type {\n",
       "        vertical-align: middle;\n",
       "    }\n",
       "\n",
       "    .dataframe tbody tr th {\n",
       "        vertical-align: top;\n",
       "    }\n",
       "\n",
       "    .dataframe thead th {\n",
       "        text-align: right;\n",
       "    }\n",
       "</style>\n",
       "<table border=\"1\" class=\"dataframe\">\n",
       "  <thead>\n",
       "    <tr style=\"text-align: right;\">\n",
       "      <th></th>\n",
       "      <th>able</th>\n",
       "      <th>check</th>\n",
       "      <th>data</th>\n",
       "      <th>exported</th>\n",
       "      <th>getting</th>\n",
       "      <th>hi</th>\n",
       "      <th>login</th>\n",
       "      <th>password</th>\n",
       "      <th>reset</th>\n",
       "      <th>restart</th>\n",
       "      <th>Prioirty</th>\n",
       "    </tr>\n",
       "  </thead>\n",
       "  <tbody>\n",
       "    <tr>\n",
       "      <th>0</th>\n",
       "      <td>0.386650</td>\n",
       "      <td>0.000000</td>\n",
       "      <td>0.00000</td>\n",
       "      <td>0.00000</td>\n",
       "      <td>0.00000</td>\n",
       "      <td>0.320954</td>\n",
       "      <td>0.000000</td>\n",
       "      <td>0.386650</td>\n",
       "      <td>0.773300</td>\n",
       "      <td>0.000000</td>\n",
       "      <td>P3</td>\n",
       "    </tr>\n",
       "    <tr>\n",
       "      <th>1</th>\n",
       "      <td>0.000000</td>\n",
       "      <td>0.000000</td>\n",
       "      <td>0.00000</td>\n",
       "      <td>0.00000</td>\n",
       "      <td>0.00000</td>\n",
       "      <td>0.506204</td>\n",
       "      <td>0.000000</td>\n",
       "      <td>0.609818</td>\n",
       "      <td>0.609818</td>\n",
       "      <td>0.000000</td>\n",
       "      <td>P3</td>\n",
       "    </tr>\n",
       "    <tr>\n",
       "      <th>2</th>\n",
       "      <td>0.000000</td>\n",
       "      <td>0.000000</td>\n",
       "      <td>0.00000</td>\n",
       "      <td>0.00000</td>\n",
       "      <td>0.00000</td>\n",
       "      <td>0.556451</td>\n",
       "      <td>0.000000</td>\n",
       "      <td>0.000000</td>\n",
       "      <td>0.000000</td>\n",
       "      <td>0.830881</td>\n",
       "      <td>P1</td>\n",
       "    </tr>\n",
       "    <tr>\n",
       "      <th>3</th>\n",
       "      <td>0.495524</td>\n",
       "      <td>0.614189</td>\n",
       "      <td>0.00000</td>\n",
       "      <td>0.00000</td>\n",
       "      <td>0.00000</td>\n",
       "      <td>0.000000</td>\n",
       "      <td>0.614189</td>\n",
       "      <td>0.000000</td>\n",
       "      <td>0.000000</td>\n",
       "      <td>0.000000</td>\n",
       "      <td>P3</td>\n",
       "    </tr>\n",
       "    <tr>\n",
       "      <th>4</th>\n",
       "      <td>0.000000</td>\n",
       "      <td>0.000000</td>\n",
       "      <td>0.57735</td>\n",
       "      <td>0.57735</td>\n",
       "      <td>0.57735</td>\n",
       "      <td>0.000000</td>\n",
       "      <td>0.000000</td>\n",
       "      <td>0.000000</td>\n",
       "      <td>0.000000</td>\n",
       "      <td>0.000000</td>\n",
       "      <td>P2</td>\n",
       "    </tr>\n",
       "  </tbody>\n",
       "</table>\n",
       "</div>"
      ],
      "text/plain": [
       "       able     check     data  exported  getting        hi     login  \\\n",
       "0  0.386650  0.000000  0.00000   0.00000  0.00000  0.320954  0.000000   \n",
       "1  0.000000  0.000000  0.00000   0.00000  0.00000  0.506204  0.000000   \n",
       "2  0.000000  0.000000  0.00000   0.00000  0.00000  0.556451  0.000000   \n",
       "3  0.495524  0.614189  0.00000   0.00000  0.00000  0.000000  0.614189   \n",
       "4  0.000000  0.000000  0.57735   0.57735  0.57735  0.000000  0.000000   \n",
       "\n",
       "   password     reset   restart Prioirty  \n",
       "0  0.386650  0.773300  0.000000       P3  \n",
       "1  0.609818  0.609818  0.000000       P3  \n",
       "2  0.000000  0.000000  0.830881       P1  \n",
       "3  0.000000  0.000000  0.000000       P3  \n",
       "4  0.000000  0.000000  0.000000       P2  "
      ]
     },
     "execution_count": 15,
     "metadata": {},
     "output_type": "execute_result"
    }
   ],
   "source": [
    "# Priority column acts as a target variable and other columns as predictors\n",
    "DataForML=pd.DataFrame(X.toarray(), columns=vectorizer.get_feature_names_out())\n",
    "DataForML['Prioirty']=TicketData['Priority']\n",
    "DataForML.head()"
   ]
  },
  {
   "cell_type": "markdown",
   "metadata": {},
   "source": [
    "**Problem Statement :** Use the support ticket text description to classify a new ticket into P1/P2/P3."
   ]
  },
  {
   "cell_type": "code",
   "execution_count": 27,
   "metadata": {},
   "outputs": [
    {
     "name": "stdout",
     "output_type": "stream",
     "text": [
      "Shape of the dataset: (19796, 2)\n"
     ]
    },
    {
     "data": {
      "text/html": [
       "<div>\n",
       "<style scoped>\n",
       "    .dataframe tbody tr th:only-of-type {\n",
       "        vertical-align: middle;\n",
       "    }\n",
       "\n",
       "    .dataframe tbody tr th {\n",
       "        vertical-align: top;\n",
       "    }\n",
       "\n",
       "    .dataframe thead th {\n",
       "        text-align: right;\n",
       "    }\n",
       "</style>\n",
       "<table border=\"1\" class=\"dataframe\">\n",
       "  <thead>\n",
       "    <tr style=\"text-align: right;\">\n",
       "      <th></th>\n",
       "      <th>body</th>\n",
       "      <th>urgency</th>\n",
       "    </tr>\n",
       "  </thead>\n",
       "  <tbody>\n",
       "    <tr>\n",
       "      <th>0</th>\n",
       "      <td>connection issues with assigned address hi fac...</td>\n",
       "      <td>P1</td>\n",
       "    </tr>\n",
       "    <tr>\n",
       "      <th>1</th>\n",
       "      <td>cannot access hi cannot access fallowing link ...</td>\n",
       "      <td>P2</td>\n",
       "    </tr>\n",
       "    <tr>\n",
       "      <th>2</th>\n",
       "      <td>re address shown valid dear colleagues remarke...</td>\n",
       "      <td>P1</td>\n",
       "    </tr>\n",
       "    <tr>\n",
       "      <th>3</th>\n",
       "      <td>sent tuesday critical alert following alert oc...</td>\n",
       "      <td>P2</td>\n",
       "    </tr>\n",
       "    <tr>\n",
       "      <th>4</th>\n",
       "      <td>code spelling mistake hello should discover fo...</td>\n",
       "      <td>P2</td>\n",
       "    </tr>\n",
       "    <tr>\n",
       "      <th>5</th>\n",
       "      <td>annual leave hello sent last week about previo...</td>\n",
       "      <td>P2</td>\n",
       "    </tr>\n",
       "    <tr>\n",
       "      <th>6</th>\n",
       "      <td>report working hello dear last two weeks have ...</td>\n",
       "      <td>P2</td>\n",
       "    </tr>\n",
       "    <tr>\n",
       "      <th>7</th>\n",
       "      <td>more access lost access please reset password ...</td>\n",
       "      <td>P1</td>\n",
       "    </tr>\n",
       "    <tr>\n",
       "      <th>8</th>\n",
       "      <td>open credentials required please assist instal...</td>\n",
       "      <td>P1</td>\n",
       "    </tr>\n",
       "    <tr>\n",
       "      <th>9</th>\n",
       "      <td>dear please ask our supplier for price quotati...</td>\n",
       "      <td>P2</td>\n",
       "    </tr>\n",
       "  </tbody>\n",
       "</table>\n",
       "</div>"
      ],
      "text/plain": [
       "                                                body urgency\n",
       "0  connection issues with assigned address hi fac...      P1\n",
       "1  cannot access hi cannot access fallowing link ...      P2\n",
       "2  re address shown valid dear colleagues remarke...      P1\n",
       "3  sent tuesday critical alert following alert oc...      P2\n",
       "4  code spelling mistake hello should discover fo...      P2\n",
       "5  annual leave hello sent last week about previo...      P2\n",
       "6  report working hello dear last two weeks have ...      P2\n",
       "7  more access lost access please reset password ...      P1\n",
       "8  open credentials required please assist instal...      P1\n",
       "9  dear please ask our supplier for price quotati...      P2"
      ]
     },
     "execution_count": 27,
     "metadata": {},
     "output_type": "execute_result"
    }
   ],
   "source": [
    "import pandas as pd\n",
    "import numpy as np\n",
    "\n",
    "# TicketData\n",
    "TicketData=pd.read_csv('../Datasets/supportTicketData.csv')\n",
    "\n",
    "# Number of rows and columns\n",
    "print(\"Shape of the dataset:\",TicketData.shape)\n",
    "\n",
    "# Printing sample rows\n",
    "TicketData.head(10)"
   ]
  },
  {
   "cell_type": "markdown",
   "metadata": {},
   "source": [
    "#### **Visualizing the distribution of the Target Variable**"
   ]
  },
  {
   "cell_type": "code",
   "execution_count": 17,
   "metadata": {},
   "outputs": [
    {
     "name": "stdout",
     "output_type": "stream",
     "text": [
      "urgency\n",
      "P1    6748\n",
      "P2    5528\n",
      "P3    7520\n",
      "dtype: int64\n"
     ]
    },
    {
     "data": {
      "text/plain": [
       "<Axes: xlabel='urgency'>"
      ]
     },
     "execution_count": 17,
     "metadata": {},
     "output_type": "execute_result"
    },
    {
     "data": {
      "image/png": "[encoded data removed]",
      "text/plain": [
       "<Figure size 640x480 with 1 Axes>"
      ]
     },
     "metadata": {},
     "output_type": "display_data"
    }
   ],
   "source": [
    "# Checking the count of each unique values for urgency column\n",
    "print(TicketData.groupby('urgency').size())\n",
    "\n",
    "# PLotting the bar chart\n",
    "%matplotlib inline\n",
    "TicketData.groupby('urgency').size().plot(kind='bar')"
   ]
  },
  {
   "cell_type": "markdown",
   "metadata": {},
   "source": [
    "The data looks balanced in terms of having comparable numbers of Priority tasks, hence its balanced data for classification. "
   ]
  },
  {
   "cell_type": "markdown",
   "metadata": {},
   "source": [
    "#### **TF-IDF Vectorization: Converting text data to numberic**"
   ]
  },
  {
   "cell_type": "code",
   "execution_count": 19,
   "metadata": {},
   "outputs": [
    {
     "name": "stdout",
     "output_type": "stream",
     "text": [
      "['ab' 'abandon' 'abandoned' ... 'zones' 'zoom' 'zooming']\n"
     ]
    }
   ],
   "source": [
    "# TF-IDF vectorization of text\n",
    "from sklearn.feature_extraction.text import TfidfVectorizer\n",
    "\n",
    "# Ticket Data\n",
    "corpus=TicketData['body'].values\n",
    "\n",
    "# Creating the vectorizer\n",
    "vectorizer=TfidfVectorizer(stop_words='english')\n",
    "\n",
    "# Converting text data into numeric data\n",
    "X=vectorizer.fit_transform(corpus)\n",
    "\n",
    "print(vectorizer.get_feature_names_out())"
   ]
  },
  {
   "cell_type": "markdown",
   "metadata": {},
   "source": [
    "Preparing DataFrame for ML, where\n",
    "- Priority column -> target variable \n",
    "- Rest -> predictors"
   ]
  },
  {
   "cell_type": "code",
   "execution_count": 28,
   "metadata": {},
   "outputs": [
    {
     "name": "stdout",
     "output_type": "stream",
     "text": [
      "Shape of Dataframe after vectorizer: (19796, 9100)\n"
     ]
    },
    {
     "data": {
      "text/html": [
       "<div>\n",
       "<style scoped>\n",
       "    .dataframe tbody tr th:only-of-type {\n",
       "        vertical-align: middle;\n",
       "    }\n",
       "\n",
       "    .dataframe tbody tr th {\n",
       "        vertical-align: top;\n",
       "    }\n",
       "\n",
       "    .dataframe thead th {\n",
       "        text-align: right;\n",
       "    }\n",
       "</style>\n",
       "<table border=\"1\" class=\"dataframe\">\n",
       "  <thead>\n",
       "    <tr style=\"text-align: right;\">\n",
       "      <th></th>\n",
       "      <th>ab</th>\n",
       "      <th>abandon</th>\n",
       "      <th>abandoned</th>\n",
       "      <th>abc</th>\n",
       "      <th>abeam</th>\n",
       "      <th>abilities</th>\n",
       "      <th>ability</th>\n",
       "      <th>able</th>\n",
       "      <th>abnormal</th>\n",
       "      <th>abnormally</th>\n",
       "      <th>...</th>\n",
       "      <th>zig</th>\n",
       "      <th>zip</th>\n",
       "      <th>zipped</th>\n",
       "      <th>zipper</th>\n",
       "      <th>zipping</th>\n",
       "      <th>zone</th>\n",
       "      <th>zones</th>\n",
       "      <th>zoom</th>\n",
       "      <th>zooming</th>\n",
       "      <th>Priority</th>\n",
       "    </tr>\n",
       "  </thead>\n",
       "  <tbody>\n",
       "    <tr>\n",
       "      <th>0</th>\n",
       "      <td>0.0</td>\n",
       "      <td>0.0</td>\n",
       "      <td>0.0</td>\n",
       "      <td>0.0</td>\n",
       "      <td>0.0</td>\n",
       "      <td>0.0</td>\n",
       "      <td>0.0</td>\n",
       "      <td>0.0</td>\n",
       "      <td>0.0</td>\n",
       "      <td>0.0</td>\n",
       "      <td>...</td>\n",
       "      <td>0.0</td>\n",
       "      <td>0.0</td>\n",
       "      <td>0.0</td>\n",
       "      <td>0.0</td>\n",
       "      <td>0.0</td>\n",
       "      <td>0.0</td>\n",
       "      <td>0.0</td>\n",
       "      <td>0.0</td>\n",
       "      <td>0.0</td>\n",
       "      <td>P1</td>\n",
       "    </tr>\n",
       "    <tr>\n",
       "      <th>1</th>\n",
       "      <td>0.0</td>\n",
       "      <td>0.0</td>\n",
       "      <td>0.0</td>\n",
       "      <td>0.0</td>\n",
       "      <td>0.0</td>\n",
       "      <td>0.0</td>\n",
       "      <td>0.0</td>\n",
       "      <td>0.0</td>\n",
       "      <td>0.0</td>\n",
       "      <td>0.0</td>\n",
       "      <td>...</td>\n",
       "      <td>0.0</td>\n",
       "      <td>0.0</td>\n",
       "      <td>0.0</td>\n",
       "      <td>0.0</td>\n",
       "      <td>0.0</td>\n",
       "      <td>0.0</td>\n",
       "      <td>0.0</td>\n",
       "      <td>0.0</td>\n",
       "      <td>0.0</td>\n",
       "      <td>P2</td>\n",
       "    </tr>\n",
       "    <tr>\n",
       "      <th>2</th>\n",
       "      <td>0.0</td>\n",
       "      <td>0.0</td>\n",
       "      <td>0.0</td>\n",
       "      <td>0.0</td>\n",
       "      <td>0.0</td>\n",
       "      <td>0.0</td>\n",
       "      <td>0.0</td>\n",
       "      <td>0.0</td>\n",
       "      <td>0.0</td>\n",
       "      <td>0.0</td>\n",
       "      <td>...</td>\n",
       "      <td>0.0</td>\n",
       "      <td>0.0</td>\n",
       "      <td>0.0</td>\n",
       "      <td>0.0</td>\n",
       "      <td>0.0</td>\n",
       "      <td>0.0</td>\n",
       "      <td>0.0</td>\n",
       "      <td>0.0</td>\n",
       "      <td>0.0</td>\n",
       "      <td>P1</td>\n",
       "    </tr>\n",
       "    <tr>\n",
       "      <th>3</th>\n",
       "      <td>0.0</td>\n",
       "      <td>0.0</td>\n",
       "      <td>0.0</td>\n",
       "      <td>0.0</td>\n",
       "      <td>0.0</td>\n",
       "      <td>0.0</td>\n",
       "      <td>0.0</td>\n",
       "      <td>0.0</td>\n",
       "      <td>0.0</td>\n",
       "      <td>0.0</td>\n",
       "      <td>...</td>\n",
       "      <td>0.0</td>\n",
       "      <td>0.0</td>\n",
       "      <td>0.0</td>\n",
       "      <td>0.0</td>\n",
       "      <td>0.0</td>\n",
       "      <td>0.0</td>\n",
       "      <td>0.0</td>\n",
       "      <td>0.0</td>\n",
       "      <td>0.0</td>\n",
       "      <td>P2</td>\n",
       "    </tr>\n",
       "    <tr>\n",
       "      <th>4</th>\n",
       "      <td>0.0</td>\n",
       "      <td>0.0</td>\n",
       "      <td>0.0</td>\n",
       "      <td>0.0</td>\n",
       "      <td>0.0</td>\n",
       "      <td>0.0</td>\n",
       "      <td>0.0</td>\n",
       "      <td>0.0</td>\n",
       "      <td>0.0</td>\n",
       "      <td>0.0</td>\n",
       "      <td>...</td>\n",
       "      <td>0.0</td>\n",
       "      <td>0.0</td>\n",
       "      <td>0.0</td>\n",
       "      <td>0.0</td>\n",
       "      <td>0.0</td>\n",
       "      <td>0.0</td>\n",
       "      <td>0.0</td>\n",
       "      <td>0.0</td>\n",
       "      <td>0.0</td>\n",
       "      <td>P2</td>\n",
       "    </tr>\n",
       "  </tbody>\n",
       "</table>\n",
       "<p>5 rows × 9100 columns</p>\n",
       "</div>"
      ],
      "text/plain": [
       "    ab  abandon  abandoned  abc  abeam  abilities  ability  able  abnormal  \\\n",
       "0  0.0      0.0        0.0  0.0    0.0        0.0      0.0   0.0       0.0   \n",
       "1  0.0      0.0        0.0  0.0    0.0        0.0      0.0   0.0       0.0   \n",
       "2  0.0      0.0        0.0  0.0    0.0        0.0      0.0   0.0       0.0   \n",
       "3  0.0      0.0        0.0  0.0    0.0        0.0      0.0   0.0       0.0   \n",
       "4  0.0      0.0        0.0  0.0    0.0        0.0      0.0   0.0       0.0   \n",
       "\n",
       "   abnormally  ...  zig  zip  zipped  zipper  zipping  zone  zones  zoom  \\\n",
       "0         0.0  ...  0.0  0.0     0.0     0.0      0.0   0.0    0.0   0.0   \n",
       "1         0.0  ...  0.0  0.0     0.0     0.0      0.0   0.0    0.0   0.0   \n",
       "2         0.0  ...  0.0  0.0     0.0     0.0      0.0   0.0    0.0   0.0   \n",
       "3         0.0  ...  0.0  0.0     0.0     0.0      0.0   0.0    0.0   0.0   \n",
       "4         0.0  ...  0.0  0.0     0.0     0.0      0.0   0.0    0.0   0.0   \n",
       "\n",
       "   zooming  Priority  \n",
       "0      0.0        P1  \n",
       "1      0.0        P2  \n",
       "2      0.0        P1  \n",
       "3      0.0        P2  \n",
       "4      0.0        P2  \n",
       "\n",
       "[5 rows x 9100 columns]"
      ]
     },
     "execution_count": 28,
     "metadata": {},
     "output_type": "execute_result"
    }
   ],
   "source": [
    "DataForML=pd.DataFrame(X.toarray(), columns=vectorizer.get_feature_names_out())\n",
    "DataForML['Priority']=TicketData['urgency']\n",
    "print(\"Shape of Dataframe after vectorizer:\",DataForML.shape)\n",
    "DataForML.head()"
   ]
  },
  {
   "cell_type": "markdown",
   "metadata": {},
   "source": [
    "9100 represents the 9099 unique words in the support ticket texts even after removing the stop-words + Target variable \"Priority\"\n",
    "\n",
    "- To select the best number of principle components, we run PCA once with the number of components equal to the number of columns, here 9099.\n",
    "\n",
    "- Taking 5000 as maximum Principle Components, to check if the optimum number of components can be found below 5000 or not"
   ]
  },
  {
   "cell_type": "code",
   "execution_count": 29,
   "metadata": {},
   "outputs": [
    {
     "name": "stdout",
     "output_type": "stream",
     "text": [
      "[ 1.28  2.25  3.08 ... 95.36 95.36 95.36]\n"
     ]
    },
    {
     "data": {
      "text/plain": [
       "Text(0, 0.5, '% Variance explained')"
      ]
     },
     "execution_count": 29,
     "metadata": {},
     "output_type": "execute_result"
    },
    {
     "data": {
      "image/png": "[encoded data removed]",
      "text/plain": [
       "<Figure size 640x480 with 1 Axes>"
      ]
     },
     "metadata": {},
     "output_type": "display_data"
    }
   ],
   "source": [
    "#### Decomposition Reduction\n",
    "\n",
    "from sklearn.decomposition import PCA\n",
    "import matplotlib.pyplot as plt\n",
    "\n",
    "# Subsetting data for X and y\n",
    "TargetVariable=DataForML.columns[-1]\n",
    "Predictors=DataForML.columns[:-1]\n",
    "\n",
    "X=DataForML[Predictors].values\n",
    "y=DataForML[TargetVariable].values\n",
    "\n",
    "# Trying maximum 5000 components\n",
    "NumComponents=5000\n",
    "pca=PCA(n_components=NumComponents)\n",
    "\n",
    "# Fitting the data\n",
    "pca_fit=pca.fit(X)\n",
    "\n",
    "# Calculating the principle components\n",
    "reduced_X=pca_fit.transform(X)\n",
    "\n",
    "# Cummulative Variance explained by explained by each components\n",
    "var_explained_cummulative=np.cumsum(np.round(pca.explained_variance_ratio_, decimals=4)*100)\n",
    "print(var_explained_cummulative)\n",
    "\n",
    "# Look for the elbow in the plot\n",
    "plt.plot(range(1, len(var_explained_cummulative)+1), var_explained_cummulative)\n",
    "plt.xlabel('Number of components')\n",
    "plt.ylabel('% Variance explained')"
   ]
  },
  {
   "cell_type": "markdown",
   "metadata": {},
   "source": [
    "- Saturation is happening around 2100 principle components, explaining around 97% of total data variance\n",
    "\n",
    "- Thus choosing 2100 Principle components, thus able to reduce the total number of columns significantly compared to original 9099 predictor columns."
   ]
  },
  {
   "cell_type": "code",
   "execution_count": 32,
   "metadata": {},
   "outputs": [],
   "source": [
    "# Creating 2100 Principle components based on the above curve\n",
    "NumComponents=2100\n",
    "pca=PCA(n_components=NumComponents)\n",
    "\n",
    "# Fitting the data\n",
    "pca_fit=pca.fit(X)\n",
    "\n",
    "# Calculating the principle components\n",
    "reduced_X=pca_fit.transform(X)"
   ]
  },
  {
   "cell_type": "markdown",
   "metadata": {},
   "source": [
    "### Using Principal Components as predictors\n",
    "\n",
    "Combining the Target Variable with the principle components and preparing the data for machine learning."
   ]
  },
  {
   "cell_type": "code",
   "execution_count": 31,
   "metadata": {},
   "outputs": [
    {
     "data": {
      "text/plain": [
       "array(['PC1', 'PC2', 'PC3', ..., 'PC2098', 'PC2099', 'PC2100'],\n",
       "      dtype=object)"
      ]
     },
     "execution_count": 31,
     "metadata": {},
     "output_type": "execute_result"
    }
   ],
   "source": [
    "# Equating reduced_X to X\n",
    "X=reduced_X\n",
    "\n",
    "# Generating Predictor names\n",
    "Predictors=pd.Series(['PC']*NumComponents).str.cat(pd.Series(range(1, NumComponents+1)).apply(str)).values\n",
    "Predictors"
   ]
  },
  {
   "cell_type": "markdown",
   "metadata": {},
   "source": [
    "### Standardization/ Normalization of the data"
   ]
  },
  {
   "cell_type": "code",
   "execution_count": 35,
   "metadata": {},
   "outputs": [
    {
     "name": "stdout",
     "output_type": "stream",
     "text": [
      "(13857, 5000)\n",
      "(13857,)\n",
      "(5939, 5000)\n",
      "(5939,)\n"
     ]
    }
   ],
   "source": [
    "from sklearn.preprocessing import StandardScaler, MinMaxScaler\n",
    "\n",
    "# Using MinMaxScaler\n",
    "PredictorScaler=MinMaxScaler()\n",
    "\n",
    "# Storing the fit object for later reference\n",
    "PredictorScalerFit=PredictorScaler.fit(X)\n",
    "\n",
    "# Generating the standardized values of X\n",
    "X=PredictorScalerFit.transform(X)\n",
    "\n",
    "# Split the data into training and testing set\n",
    "from sklearn.model_selection import train_test_split\n",
    "X_train, X_test, y_train, y_test=train_test_split(X, y, test_size=0.3, random_state=42)\n",
    "\n",
    "# Sanity check for the sampled data\n",
    "print(X_train.shape)\n",
    "print(y_train.shape)\n",
    "print(X_test.shape)\n",
    "print(y_test.shape)"
   ]
  },
  {
   "cell_type": "markdown",
   "metadata": {},
   "source": [
    "### Training ML Classification Models\n",
    "\n",
    "\n",
    "Using algorithms:\n",
    "\n",
    "- Naive Bayes\n",
    "- Logistic Regression\n",
    "- Decision Trees"
   ]
  },
  {
   "cell_type": "markdown",
   "metadata": {},
   "source": [
    "### Naive Bayes"
   ]
  },
  {
   "cell_type": "code",
   "execution_count": null,
   "metadata": {},
   "outputs": [
    {
     "name": "stdout",
     "output_type": "stream",
     "text": [
      "GaussianNB()\n"
     ]
    }
   ],
   "source": [
    "from sklearn.naive_bayes import GaussianNB, MultinomialNB\n",
    "\n",
    "# GaussianNB is preferred in Binomial Classification\n",
    "# Multinomial is preferred in multi-class Classification\n",
    "clf=GaussianNB()\n",
    "# clf=MultinomialNB()\n",
    "\n",
    "# Printing all the parameters of Naive Bayes\n",
    "print(clf)\n",
    "\n",
    "# Generating the Naive Bayes model\n",
    "NB=clf.fit(X_train, y_train)\n",
    "\n",
    "# Generating predictions on testing data\n",
    "Prediction=NB.predict(X_test)\n",
    "\n",
    "# Printing sample values of prediction in Testing Data\n",
    "TestingData=pd.DataFrame(data=X_test, columns=Predictors)\n",
    "\n"
   ]
  },
  {
   "cell_type": "code",
   "execution_count": null,
   "metadata": {},
   "outputs": [],
   "source": []
  },
  {
   "cell_type": "code",
   "execution_count": null,
   "metadata": {},
   "outputs": [],
   "source": []
  },
  {
   "cell_type": "code",
   "execution_count": null,
   "metadata": {},
   "outputs": [],
   "source": []
  },
  {
   "cell_type": "code",
   "execution_count": null,
   "metadata": {},
   "outputs": [],
   "source": []
  },
  {
   "cell_type": "code",
   "execution_count": null,
   "metadata": {},
   "outputs": [],
   "source": []
  },
  {
   "cell_type": "code",
   "execution_count": null,
   "metadata": {},
   "outputs": [],
   "source": []
  },
  {
   "cell_type": "code",
   "execution_count": null,
   "metadata": {},
   "outputs": [],
   "source": []
  },
  {
   "cell_type": "code",
   "execution_count": null,
   "metadata": {},
   "outputs": [],
   "source": []
  },
  {
   "cell_type": "code",
   "execution_count": null,
   "metadata": {},
   "outputs": [],
   "source": []
  },
  {
   "cell_type": "code",
   "execution_count": null,
   "metadata": {},
   "outputs": [],
   "source": []
  },
  {
   "cell_type": "code",
   "execution_count": null,
   "metadata": {},
   "outputs": [],
   "source": []
  },
  {
   "cell_type": "code",
   "execution_count": null,
   "metadata": {},
   "outputs": [],
   "source": []
  },
  {
   "cell_type": "code",
   "execution_count": null,
   "metadata": {},
   "outputs": [],
   "source": []
  },
  {
   "cell_type": "code",
   "execution_count": null,
   "metadata": {},
   "outputs": [],
   "source": []
  },
  {
   "cell_type": "code",
   "execution_count": null,
   "metadata": {},
   "outputs": [],
   "source": []
  },
  {
   "cell_type": "code",
   "execution_count": null,
   "metadata": {},
   "outputs": [],
   "source": []
  }
 ],
 "metadata": {
  "kernelspec": {
   "display_name": "base",
   "language": "python",
   "name": "python3"
  },
  "language_info": {
   "codemirror_mode": {
    "name": "ipython",
    "version": 3
   },
   "file_extension": ".py",
   "mimetype": "text/x-python",
   "name": "python",
   "nbconvert_exporter": "python",
   "pygments_lexer": "ipython3",
   "version": "3.12.7"
  }
 },
 "nbformat": 4,
 "nbformat_minor": 2
}
